{
 "cells": [
  {
   "cell_type": "markdown",
   "metadata": {
    "collapsed": true
   },
   "source": [
    "This is a pre-processing script to load the metadata.json file from http://jmcauley.ucsd.edu/data/amazon/ into BigQuery. \n",
    "\n",
    "The file cannot be loaded as is because some of the JSON elements contain unsupported syntax. \n",
    "\n",
    "Once the script is run, the resulting JSON file is BQ friendly"
   ]
  },
  {
   "cell_type": "code",
   "execution_count": 54,
   "metadata": {},
   "outputs": [],
   "source": [
    "import json\n",
    "import ast\n",
    "\n",
    "\"\"\"\n",
    "Arguments:\n",
    "   record (string): JSON record of format desrcibed in 'Metadata' file here: http://jmcauley.ucsd.edu/data/amazon/\n",
    "   elements (list): the JSON elements to preseve from the record (the rest will be left out)\n",
    "Returns:\n",
    "   (string): JSON record with only the specified elements\n",
    "Example Usage:\n",
    "   slim_record(single_json_record,['asin','title','imUrl'])\n",
    "\"\"\"\n",
    "def slim_record(record,elements):\n",
    "    slim_record = {}\n",
    "    record = ast.literal_eval(record) #converts to python dict. using ast.literal_eval() since file is not strict JSON so json.load() fails\n",
    "    for element in elements: #TODO: can you convert for loop to comprehension?\n",
    "        slim_record.update({element:record.get(element)})\n",
    "    return slim_record\n",
    "\n",
    "\"\"\"\n",
    "Arguments:\n",
    "   input_path (string): path to 'metadata' file frome here: http://jmcauley.ucsd.edu/data/amazon/\n",
    "Returns:\n",
    "   yield returns a generator that reads one line at a time instead of trying to read the whole\n",
    "   file into memory which would lead to out of memory error for large data files \n",
    "\"\"\"\n",
    "def parse_inline(input_path):\n",
    "  with open(input_path) as file:\n",
    "      for record in file:\n",
    "        yield slim_record(record,['asin','title','imUrl']) #"
   ]
  },
  {
   "cell_type": "code",
   "execution_count": 55,
   "metadata": {
    "collapsed": true
   },
   "outputs": [],
   "source": [
    "with open('metadata/output_sample.json', 'w') as output:\n",
    "    for line in parse_inline('metadata/metadata_sample.json'): #generator\n",
    "      output.write(json.dumps(line) + '\\n')"
   ]
  }
 ],
 "metadata": {
  "kernelspec": {
   "display_name": "Python 3",
   "language": "python",
   "name": "python3"
  },
  "language_info": {
   "codemirror_mode": {
    "name": "ipython",
    "version": 3
   },
   "file_extension": ".py",
   "mimetype": "text/x-python",
   "name": "python",
   "nbconvert_exporter": "python",
   "pygments_lexer": "ipython3",
   "version": "3.6.2"
  }
 },
 "nbformat": 4,
 "nbformat_minor": 2
}
